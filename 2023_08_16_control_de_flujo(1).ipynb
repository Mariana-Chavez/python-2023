{
  "cells": [
    {
      "cell_type": "markdown",
      "metadata": {
        "id": "O9wQj4zcCV0W"
      },
      "source": [
        "Control de flujo\n",
        "================\n",
        "\n",
        "**Date:** 2023-08-16\n",
        "\n"
      ]
    },
    {
      "cell_type": "markdown",
      "metadata": {
        "id": "UdZPSVWmCV0X"
      },
      "source": [
        "## Control de flujo\n",
        "\n"
      ]
    },
    {
      "cell_type": "markdown",
      "metadata": {
        "id": "FHa1un4SCV0Y"
      },
      "source": [
        "### `if`\n",
        "\n"
      ]
    },
    {
      "cell_type": "code",
      "execution_count": 1,
      "metadata": {
        "colab": {
          "base_uri": "https://localhost:8080/"
        },
        "id": "fslleTnjCV0Y",
        "outputId": "44d52079-685f-40a4-b44f-4d5f28e94470"
      },
      "outputs": [
        {
          "output_type": "execute_result",
          "data": {
            "text/plain": [
              "['Mauritania', 'Alicia', 'Joshuan', 'Brenda', 'Karen', 'Mariana', 'Gina']"
            ]
          },
          "metadata": {},
          "execution_count": 1
        }
      ],
      "source": [
        "inscritos = [\"Mauritania\", \"Alicia\", \"Joshuan\", \"Brenda\", \"Karen\"]\n",
        "oyentes = [\"Mariana\", \"Gina\"]\n",
        "estudiantes = inscritos + oyentes\n",
        "estudiantes"
      ]
    },
    {
      "cell_type": "code",
      "execution_count": 2,
      "metadata": {
        "colab": {
          "base_uri": "https://localhost:8080/"
        },
        "id": "dgh4E9ErCV0Z",
        "outputId": "0c0353e2-ce21-47a3-cd75-64da1fd0f064"
      },
      "outputs": [
        {
          "output_type": "stream",
          "name": "stdout",
          "text": [
            "Son muchos estudiantes\n"
          ]
        }
      ],
      "source": [
        "if len(estudiantes) > 5:\n",
        "    print(\"Son muchos estudiantes\")"
      ]
    },
    {
      "cell_type": "code",
      "execution_count": 3,
      "metadata": {
        "colab": {
          "base_uri": "https://localhost:8080/"
        },
        "id": "NWqJLg7aCV0a",
        "outputId": "9952ff3f-204c-4759-eedf-8491f0ade4a1"
      },
      "outputs": [
        {
          "output_type": "stream",
          "name": "stdout",
          "text": [
            "Son pocos estudiantes. Ojalá entren oyentes\n"
          ]
        }
      ],
      "source": [
        "if len(estudiantes) > 10:\n",
        "    print(\"Son muchos estudiantes\")\n",
        "else:\n",
        "    print(\"Son pocos estudiantes\", end=\". \")\n",
        "    print(\"Ojalá entren oyentes\")"
      ]
    },
    {
      "cell_type": "code",
      "execution_count": 4,
      "metadata": {
        "colab": {
          "base_uri": "https://localhost:8080/"
        },
        "id": "qyRgIDGeCV0a",
        "outputId": "29b9349b-040b-45df-d874-fca3aa01d26f"
      },
      "outputs": [
        {
          "output_type": "stream",
          "name": "stdout",
          "text": [
            "Son cuando mucho cinco estudiantes\n"
          ]
        }
      ],
      "source": [
        "if len(inscritos) <= 5:\n",
        "    print(\"Son cuando mucho cinco estudiantes\")\n",
        "elif len(inscritos) == 6:\n",
        "    print(\"Son seis estudiantes\")\n",
        "else:\n",
        "    print(\"Son muchos estudiantes\", end=\". \")\n",
        "    print(\"Ojalá no entren oyentes\")"
      ]
    },
    {
      "cell_type": "markdown",
      "metadata": {
        "id": "6-CXV8MmCV0b"
      },
      "source": [
        "### `for`\n",
        "\n"
      ]
    },
    {
      "cell_type": "code",
      "execution_count": 5,
      "metadata": {
        "colab": {
          "base_uri": "https://localhost:8080/"
        },
        "id": "CC25ybdJCV0b",
        "outputId": "804b7028-4244-4b49-ae35-cab7e5bf55c3"
      },
      "outputs": [
        {
          "output_type": "stream",
          "name": "stdout",
          "text": [
            "Hola Mauritania ¿Cómo estás?\n",
            "Hola Alicia ¿Cómo estás?\n",
            "Hola Joshuan ¿Cómo estás?\n",
            "Hola Brenda ¿Cómo estás?\n",
            "Hola Karen ¿Cómo estás?\n",
            "Hola Mariana ¿Cómo estás?\n",
            "Hola Gina ¿Cómo estás?\n"
          ]
        }
      ],
      "source": [
        "for estudiante in estudiantes:\n",
        "    print(\"Hola\", estudiante, \"¿Cómo estás?\")"
      ]
    },
    {
      "cell_type": "code",
      "execution_count": 6,
      "metadata": {
        "colab": {
          "base_uri": "https://localhost:8080/"
        },
        "id": "unsOnwGtCV0c",
        "outputId": "ab33d6db-2c42-4ef0-ef6c-4589acf685c6"
      },
      "outputs": [
        {
          "output_type": "stream",
          "name": "stdout",
          "text": [
            "Hola Mauritania\n",
            "Hola Alicia\n",
            "Hola Joshuan\n",
            "Hola Brenda\n",
            "Hola Karen\n",
            "Hola Mariana\n",
            "Hola Gina\n"
          ]
        }
      ],
      "source": [
        "for i in range(len(estudiantes)):\n",
        "    print(\"Hola\", estudiantes[i])"
      ]
    },
    {
      "cell_type": "code",
      "execution_count": 12,
      "metadata": {
        "colab": {
          "base_uri": "https://localhost:8080/"
        },
        "id": "fmuW_QGhCV0c",
        "outputId": "39cf8c6e-e885-4aa3-dbc5-04b36d154482"
      },
      "outputs": [
        {
          "output_type": "stream",
          "name": "stdout",
          "text": [
            "5\n",
            "3\n",
            "1\n",
            "-1\n"
          ]
        }
      ],
      "source": [
        "for j in range(5, -3, -2):\n",
        "    print(j)\n",
        "    if j == 0:\n",
        "        print(\"Booom\")"
      ]
    },
    {
      "cell_type": "code",
      "source": [
        "list(range(0, 7))"
      ],
      "metadata": {
        "colab": {
          "base_uri": "https://localhost:8080/"
        },
        "id": "wjH_JpPmHEFk",
        "outputId": "befcdbf6-2373-45af-b0b7-d1c91b02d6e3"
      },
      "execution_count": 15,
      "outputs": [
        {
          "output_type": "execute_result",
          "data": {
            "text/plain": [
              "[0, 1, 2, 3, 4, 5, 6]"
            ]
          },
          "metadata": {},
          "execution_count": 15
        }
      ]
    },
    {
      "cell_type": "markdown",
      "source": [
        "range puede tener range(**a,b,c**), donde a es  el numero **a** iniciar, **b** es el numero donde termina y **c** es el salto  y el list genera la lista"
      ],
      "metadata": {
        "id": "RClKhwGwIViv"
      }
    },
    {
      "cell_type": "code",
      "execution_count": 8,
      "metadata": {
        "colab": {
          "base_uri": "https://localhost:8080/"
        },
        "id": "B2hDXnkYCV0d",
        "outputId": "4b3acc2b-d1dc-4487-dc32-d77dd7fe1686"
      },
      "outputs": [
        {
          "output_type": "execute_result",
          "data": {
            "text/plain": [
              "range(0, 7897987978979779878979797987987979779797979)"
            ]
          },
          "metadata": {},
          "execution_count": 8
        }
      ],
      "source": [
        "range(7897987978979779878979797987987979779797979)"
      ]
    },
    {
      "cell_type": "markdown",
      "metadata": {
        "id": "ovmzlGz9CV0d"
      },
      "source": [
        "La suma de todos los números del 1 al 100.\n",
        "\n"
      ]
    },
    {
      "cell_type": "code",
      "execution_count": 16,
      "metadata": {
        "colab": {
          "base_uri": "https://localhost:8080/"
        },
        "id": "e5LU5VJ6CV0e",
        "outputId": "4c56b419-15f8-4af2-8f28-e43cf7c03712"
      },
      "outputs": [
        {
          "output_type": "execute_result",
          "data": {
            "text/plain": [
              "5050"
            ]
          },
          "metadata": {},
          "execution_count": 16
        }
      ],
      "source": [
        "sum(range(101))"
      ]
    },
    {
      "cell_type": "markdown",
      "metadata": {
        "id": "qp5Ga3d1CV0e"
      },
      "source": [
        "### break, continue y else en ciclos for\n",
        "\n"
      ]
    },
    {
      "cell_type": "markdown",
      "metadata": {
        "id": "wmTL-kBtCV0e"
      },
      "source": [
        "#### break\n",
        "\n"
      ]
    },
    {
      "cell_type": "markdown",
      "metadata": {
        "id": "CTHFhvaXCV0e"
      },
      "source": [
        "`break` sirve para interrumpir un ciclo for.\n",
        "\n"
      ]
    },
    {
      "cell_type": "code",
      "execution_count": 17,
      "metadata": {
        "colab": {
          "base_uri": "https://localhost:8080/"
        },
        "id": "2-D-cO15CV0g",
        "outputId": "4cecea91-fa3a-4733-c189-7fbb5370bc49"
      },
      "outputs": [
        {
          "output_type": "stream",
          "name": "stdout",
          "text": [
            "Hola Mauritania ¿Cómo estás?\n",
            "Hola Alicia ¿Cómo estás?\n",
            "Hola Joshuan ¿Cómo estás?\n",
            "Hola Brenda ¿Cómo estás?\n",
            "Hola Karen ¿Cómo estás?\n",
            "Ya saludé a los inscritos\n"
          ]
        }
      ],
      "source": [
        "for estudiante in estudiantes:\n",
        "    print(\"Hola\", estudiante, \"¿Cómo estás?\")\n",
        "    if estudiante == \"Karen\":\n",
        "        break\n",
        "\n",
        "print(\"Ya saludé a los inscritos\")"
      ]
    },
    {
      "cell_type": "markdown",
      "metadata": {
        "id": "weyWowIdCV0g"
      },
      "source": [
        "#### else en un ciclo for\n",
        "\n"
      ]
    },
    {
      "cell_type": "markdown",
      "metadata": {
        "id": "9DMGl8PHCV0g"
      },
      "source": [
        "La cláusula `else` en un ciclo `for` se ejecuta cuando el ciclo `for` termina de manera \"natural\", sin haber pasado por una cláusula `break`.\n",
        "\n"
      ]
    },
    {
      "cell_type": "code",
      "execution_count": 18,
      "metadata": {
        "colab": {
          "base_uri": "https://localhost:8080/"
        },
        "id": "uIUoqhvaCV0g",
        "outputId": "218bc9bc-b433-4ae7-d5a2-9ea418b7ee04"
      },
      "outputs": [
        {
          "output_type": "stream",
          "name": "stdout",
          "text": [
            "2 es un número primo\n",
            "3 es un número primo\n",
            "4 es igual a 2 * 2\n",
            "5 es un número primo\n",
            "6 es igual a 2 * 3\n",
            "7 es un número primo\n",
            "8 es igual a 2 * 4\n",
            "9 es igual a 3 * 3\n"
          ]
        }
      ],
      "source": [
        "for n in range(2, 10):\n",
        "    for x in range(2, n):\n",
        "        if n % x == 0:\n",
        "            print(n, 'es igual a', x, '*', n//x)\n",
        "            break\n",
        "    else:\n",
        "        # se terminó de checar posibles divisores sin encontrar uno\n",
        "        print(n, 'es un número primo')"
      ]
    },
    {
      "cell_type": "markdown",
      "metadata": {
        "id": "Wxy1Ig6nCV0g"
      },
      "source": [
        "#### continue\n",
        "\n"
      ]
    },
    {
      "cell_type": "code",
      "execution_count": 23,
      "metadata": {
        "colab": {
          "base_uri": "https://localhost:8080/"
        },
        "id": "7DESmGtrCV0g",
        "outputId": "276c49ea-3ebe-42b0-b02d-92731bae38f1"
      },
      "outputs": [
        {
          "output_type": "stream",
          "name": "stdout",
          "text": [
            "Hola Mauritania ¿Cómo estás?\n",
            "¿Qué materias estás llevando, Mauritania ?\n",
            "Hola Alicia ¿Cómo estás?\n",
            "¿Qué materias estás llevando, Alicia ?\n",
            "Hola Joshuan ¿Cómo estás?\n",
            "¿Qué materias estás llevando, Joshuan ?\n",
            "Hola Brenda ¿Cómo estás?\n",
            "¿Qué materias estás llevando, Brenda ?\n",
            "Hola Karen ¿Cómo estás?\n",
            "¿Qué materias estás llevando, Karen ?\n",
            "Hola Mariana ¿Cómo estás?\n"
          ]
        }
      ],
      "source": [
        "for estudiante in estudiantes:\n",
        "    print(\"Hola\", estudiante, \"¿Cómo estás?\")\n",
        "    if estudiante in [\"Mariana\", \"Gina\"]:\n",
        "        break\n",
        "    print(\"¿Qué materias estás llevando,\", estudiante,\"?\")"
      ]
    },
    {
      "cell_type": "code",
      "source": [
        "for estudiante in estudiantes:\n",
        "    print(\"Hola\", estudiante, \"¿Cómo estás?\")\n",
        "    if estudiante in [\"Mariana\", \"Gina\"]:\n",
        "        continue\n",
        "    print(\"¿Qué materias estás llevando,\", estudiante,\"?\")"
      ],
      "metadata": {
        "colab": {
          "base_uri": "https://localhost:8080/"
        },
        "id": "ld_UfhZGLkIv",
        "outputId": "4f77194b-18f7-4b6c-c440-71f0336211cb"
      },
      "execution_count": 24,
      "outputs": [
        {
          "output_type": "stream",
          "name": "stdout",
          "text": [
            "Hola Mauritania ¿Cómo estás?\n",
            "¿Qué materias estás llevando, Mauritania ?\n",
            "Hola Alicia ¿Cómo estás?\n",
            "¿Qué materias estás llevando, Alicia ?\n",
            "Hola Joshuan ¿Cómo estás?\n",
            "¿Qué materias estás llevando, Joshuan ?\n",
            "Hola Brenda ¿Cómo estás?\n",
            "¿Qué materias estás llevando, Brenda ?\n",
            "Hola Karen ¿Cómo estás?\n",
            "¿Qué materias estás llevando, Karen ?\n",
            "Hola Mariana ¿Cómo estás?\n",
            "Hola Gina ¿Cómo estás?\n"
          ]
        }
      ]
    },
    {
      "cell_type": "markdown",
      "metadata": {
        "id": "pQ8z8iAUCV0h"
      },
      "source": [
        "#### pass\n",
        "\n"
      ]
    },
    {
      "cell_type": "markdown",
      "metadata": {
        "id": "QP7UlobUCV0i"
      },
      "source": [
        "La claúsula `pass` no hace nada, pero puede servir para que un programa incompleto sea sintácticamente correcto.\n",
        "\n"
      ]
    },
    {
      "cell_type": "code",
      "execution_count": 27,
      "metadata": {
        "colab": {
          "base_uri": "https://localhost:8080/"
        },
        "id": "BZ0P4-RSCV0i",
        "outputId": "0772ed37-0c48-444b-aee1-edc2a3a1ec12"
      },
      "outputs": [
        {
          "output_type": "stream",
          "name": "stdout",
          "text": [
            "Hola Mauritania ¿Cómo estás?\n",
            "Hola Alicia ¿Cómo estás?\n",
            "Hola Joshuan ¿Cómo estás?\n",
            "Hola Brenda ¿Cómo estás?\n",
            "Hola Karen ¿Cómo estás?\n",
            "Hola Mariana ¿Cómo estás?\n",
            "Hola Gina ¿Cómo estás?\n"
          ]
        }
      ],
      "source": [
        "for estudiante in estudiantes:\n",
        "    print(\"Hola\", estudiante, \"¿Cómo estás?\")\n",
        "    if estudiante in [\"Mariana\", \"Gina\"]:\n",
        "        pass"
      ]
    },
    {
      "cell_type": "code",
      "execution_count": 28,
      "metadata": {
        "colab": {
          "base_uri": "https://localhost:8080/"
        },
        "id": "yrj4JwmdCV0i",
        "outputId": "41526faa-9bd3-4944-aa03-28a4def2646f"
      },
      "outputs": [
        {
          "output_type": "stream",
          "name": "stdout",
          "text": [
            "Hola Mauritania ¿Cómo estás?\n",
            "Hola Alicia ¿Cómo estás?\n",
            "Hola Joshuan ¿Cómo estás?\n",
            "Hola Brenda ¿Cómo estás?\n",
            "Hola Karen ¿Cómo estás?\n",
            "Hola Mariana ¿Cómo estás?\n",
            "Hola Mariana ¿Eres oyente?\n",
            "Hola Gina ¿Cómo estás?\n",
            "Hola Gina ¿Eres oyente?\n"
          ]
        }
      ],
      "source": [
        "for estudiante in estudiantes:\n",
        "    print(\"Hola\", estudiante, \"¿Cómo estás?\")\n",
        "    if estudiante in [\"Mariana\", \"Gina\"]:\n",
        "        print(\"Hola\", estudiante, \"¿Eres oyente?\")"
      ]
    }
  ],
  "metadata": {
    "kernelspec": {
      "display_name": "Python 3",
      "language": "python",
      "name": "python3"
    },
    "language_info": {
      "codemirror_mode": {
        "name": "ipython",
        "version": 3
      },
      "file_extension": ".py",
      "mimetype": "text/x-python",
      "name": "python",
      "nbconvert_exporter": "python",
      "pygments_lexer": "ipython3",
      "version": "3.9.2"
    },
    "org": null,
    "colab": {
      "provenance": []
    }
  },
  "nbformat": 4,
  "nbformat_minor": 0
}