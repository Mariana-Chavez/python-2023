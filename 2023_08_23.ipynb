{
  "nbformat": 4,
  "nbformat_minor": 0,
  "metadata": {
    "colab": {
      "provenance": [],
      "authorship_tag": "ABX9TyOt3kjtfNbhyCmTqpbxP06g",
      "include_colab_link": true
    },
    "kernelspec": {
      "name": "python3",
      "display_name": "Python 3"
    },
    "language_info": {
      "name": "python"
    }
  },
  "cells": [
    {
      "cell_type": "markdown",
      "metadata": {
        "id": "view-in-github",
        "colab_type": "text"
      },
      "source": [
        "<a href=\"https://colab.research.google.com/github/Mariana-Chavez/python-2023/blob/main/2023_08_23.ipynb\" target=\"_parent\"><img src=\"https://colab.research.google.com/assets/colab-badge.svg\" alt=\"Open In Colab\"/></a>"
      ]
    },
    {
      "cell_type": "markdown",
      "source": [
        "Queremos conocer los numeros en la lista de Fibonacci talque son potencias perfectas, es decir (n^(1/i))^i=n\n",
        "\n"
      ],
      "metadata": {
        "id": "sHMyKKacKtK-"
      }
    },
    {
      "cell_type": "markdown",
      "source": [
        "Este codigo nos ayuda a contestar las siguientes preguntas\n",
        "¿que numeros de Fibonacci menores que 10^20 son cuadrados?"
      ],
      "metadata": {
        "id": "aO_Rfr5UI9O-"
      }
    },
    {
      "cell_type": "code",
      "execution_count": 3,
      "metadata": {
        "colab": {
          "base_uri": "https://localhost:8080/"
        },
        "id": "lskVfKUuCGRi",
        "outputId": "6e16fb63-b917-4c66-9a7f-a58995f325cf"
      },
      "outputs": [
        {
          "output_type": "execute_result",
          "data": {
            "text/plain": [
              "[0, 1, 1, 144]"
            ]
          },
          "metadata": {},
          "execution_count": 3
        }
      ],
      "source": [
        "from sympy import sqrt\n",
        "def es_potencia(n):\n",
        "\n",
        "     return int((n**(1/2))) ** 2== n\n",
        "\n",
        "def cuadrados_fibonacci(n):\n",
        "    fibs = []\n",
        "    a, b = 0, 1\n",
        "    while a < n:\n",
        "         if es_potencia(a):\n",
        "            fibs.append(a)\n",
        "         a, b = b, a+b\n",
        "    return fibs\n",
        "\n",
        "cuadrados_fibonacci(100000000000000000000)"
      ]
    },
    {
      "cell_type": "markdown",
      "source": [
        "En el siguiente codigo podemos encontrar los numeros tales que son terceras potencias\n"
      ],
      "metadata": {
        "id": "cBE-40zMLknK"
      }
    },
    {
      "cell_type": "code",
      "source": [],
      "metadata": {
        "id": "p5NjKYk2LkOE"
      },
      "execution_count": null,
      "outputs": []
    },
    {
      "cell_type": "code",
      "execution_count": 4,
      "metadata": {
        "colab": {
          "base_uri": "https://localhost:8080/"
        },
        "outputId": "e2b067e4-8235-4713-a875-5f22d7c97793",
        "id": "-IBWOSuILymE"
      },
      "outputs": [
        {
          "output_type": "execute_result",
          "data": {
            "text/plain": [
              "[0, 1, 1, 8]"
            ]
          },
          "metadata": {},
          "execution_count": 4
        }
      ],
      "source": [
        "from sympy import sqrt\n",
        "def es_potencia(n):\n",
        "\n",
        "     return int((n**(1/3))) ** 3== n\n",
        "\n",
        "def cuadrados_fibonacci(n):\n",
        "    fibs = []\n",
        "    a, b = 0, 1\n",
        "    while a < n:\n",
        "         if es_potencia(a):\n",
        "            fibs.append(a)\n",
        "         a, b = b, a+b\n",
        "    return fibs\n",
        "\n",
        "cuadrados_fibonacci(100000000000000000000)"
      ]
    },
    {
      "cell_type": "markdown",
      "source": [
        "Por ultimo agregamos el codigo que nos ayuda a encontar las cuartas potencias.\n"
      ],
      "metadata": {
        "id": "t1xEDFRoL1uT"
      }
    },
    {
      "cell_type": "code",
      "source": [],
      "metadata": {
        "id": "HrFvAp2HMBC6"
      },
      "execution_count": null,
      "outputs": []
    },
    {
      "cell_type": "code",
      "execution_count": 5,
      "metadata": {
        "colab": {
          "base_uri": "https://localhost:8080/"
        },
        "outputId": "f748f6fe-19bb-4c36-d01e-245fd7b93699",
        "id": "9qzNARjWMB8m"
      },
      "outputs": [
        {
          "output_type": "execute_result",
          "data": {
            "text/plain": [
              "[0, 1, 1]"
            ]
          },
          "metadata": {},
          "execution_count": 5
        }
      ],
      "source": [
        "from sympy import sqrt\n",
        "def es_potencia(n):\n",
        "\n",
        "     return int((n**(1/4))) ** 4== n\n",
        "\n",
        "def cuadrados_fibonacci(n):\n",
        "    fibs = []\n",
        "    a, b = 0, 1\n",
        "    while a < n:\n",
        "         if es_potencia(a):\n",
        "            fibs.append(a)\n",
        "         a, b = b, a+b\n",
        "    return fibs\n",
        "\n",
        "cuadrados_fibonacci(100000000000000000000)"
      ]
    },
    {
      "cell_type": "markdown",
      "source": [
        "podemos observar que los numeros que tienen potencias perfectas de 2 a 4 en los numeros de Fibonacci menores que 10^20, son [0,1,1,8,144], para completar dicha informacion en el siguiente articulo:https://annals.math.princeton.edu/2006/163-3/p05"
      ],
      "metadata": {
        "id": "5b8whlLuMEwC"
      }
    }
  ]
}